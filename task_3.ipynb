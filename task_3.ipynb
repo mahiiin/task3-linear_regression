{
  "nbformat": 4,
  "nbformat_minor": 0,
  "metadata": {
    "colab": {
      "provenance": [],
      "authorship_tag": "ABX9TyPK0SebnZDhj/dGLKYNTd+0",
      "include_colab_link": true
    },
    "kernelspec": {
      "name": "python3",
      "display_name": "Python 3"
    },
    "language_info": {
      "name": "python"
    }
  },
  "cells": [
    {
      "cell_type": "markdown",
      "metadata": {
        "id": "view-in-github",
        "colab_type": "text"
      },
      "source": [
        "<a href=\"https://colab.research.google.com/github/mahiiin/task3-linear_regression/blob/main/task_3.ipynb\" target=\"_parent\"><img src=\"https://colab.research.google.com/assets/colab-badge.svg\" alt=\"Open In Colab\"/></a>"
      ]
    },
    {
      "cell_type": "code",
      "source": [
        "# Import necessary libraries\n",
        "import pandas as pd\n",
        "import numpy as np\n",
        "import matplotlib.pyplot as plt\n",
        "from sklearn.model_selection import train_test_split\n",
        "from sklearn.linear_model import LinearRegression\n",
        "from sklearn.metrics import mean_absolute_error, mean_squared_error, r2_score\n",
        "\n",
        "# Load the dataset\n",
        "data = pd.read_csv('/content/Housing.csv')\n",
        "\n",
        "# Display first few rows\n",
        "print(data.head())\n",
        "\n",
        "# Check basic info\n",
        "print(data.info())\n",
        "\n",
        "# Check if there are missing values\n",
        "print(data.isnull().sum())\n"
      ],
      "metadata": {
        "colab": {
          "base_uri": "https://localhost:8080/"
        },
        "id": "1XENNIuYTGt9",
        "outputId": "4a408662-5d88-4d6a-fbcd-31be243bfab1"
      },
      "execution_count": 45,
      "outputs": [
        {
          "output_type": "stream",
          "name": "stdout",
          "text": [
            "      price  area  bedrooms  bathrooms  stories mainroad guestroom basement  \\\n",
            "0  13300000  7420         4          2        3      yes        no       no   \n",
            "1  12250000  8960         4          4        4      yes        no       no   \n",
            "2  12250000  9960         3          2        2      yes        no      yes   \n",
            "3  12215000  7500         4          2        2      yes        no      yes   \n",
            "4  11410000  7420         4          1        2      yes       yes      yes   \n",
            "\n",
            "  hotwaterheating airconditioning  parking prefarea furnishingstatus  \n",
            "0              no             yes        2      yes        furnished  \n",
            "1              no             yes        3       no        furnished  \n",
            "2              no              no        2      yes   semi-furnished  \n",
            "3              no             yes        3      yes        furnished  \n",
            "4              no             yes        2       no        furnished  \n",
            "<class 'pandas.core.frame.DataFrame'>\n",
            "RangeIndex: 545 entries, 0 to 544\n",
            "Data columns (total 13 columns):\n",
            " #   Column            Non-Null Count  Dtype \n",
            "---  ------            --------------  ----- \n",
            " 0   price             545 non-null    int64 \n",
            " 1   area              545 non-null    int64 \n",
            " 2   bedrooms          545 non-null    int64 \n",
            " 3   bathrooms         545 non-null    int64 \n",
            " 4   stories           545 non-null    int64 \n",
            " 5   mainroad          545 non-null    object\n",
            " 6   guestroom         545 non-null    object\n",
            " 7   basement          545 non-null    object\n",
            " 8   hotwaterheating   545 non-null    object\n",
            " 9   airconditioning   545 non-null    object\n",
            " 10  parking           545 non-null    int64 \n",
            " 11  prefarea          545 non-null    object\n",
            " 12  furnishingstatus  545 non-null    object\n",
            "dtypes: int64(6), object(7)\n",
            "memory usage: 55.5+ KB\n",
            "None\n",
            "price               0\n",
            "area                0\n",
            "bedrooms            0\n",
            "bathrooms           0\n",
            "stories             0\n",
            "mainroad            0\n",
            "guestroom           0\n",
            "basement            0\n",
            "hotwaterheating     0\n",
            "airconditioning     0\n",
            "parking             0\n",
            "prefarea            0\n",
            "furnishingstatus    0\n",
            "dtype: int64\n"
          ]
        }
      ]
    },
    {
      "cell_type": "code",
      "source": [
        "# See all column names\n",
        "print(data.columns)"
      ],
      "metadata": {
        "colab": {
          "base_uri": "https://localhost:8080/"
        },
        "id": "7GEmnWcfTV55",
        "outputId": "7852a4b5-f710-40f5-b317-01da9e258c7a"
      },
      "execution_count": 46,
      "outputs": [
        {
          "output_type": "stream",
          "name": "stdout",
          "text": [
            "Index(['price', 'area', 'bedrooms', 'bathrooms', 'stories', 'mainroad',\n",
            "       'guestroom', 'basement', 'hotwaterheating', 'airconditioning',\n",
            "       'parking', 'prefarea', 'furnishingstatus'],\n",
            "      dtype='object')\n"
          ]
        }
      ]
    },
    {
      "cell_type": "code",
      "source": [
        "# Select feature and target for Simple Linear Regression\n",
        "X = data[['area']]    # feature must be 2D\n",
        "y = data['price']     # target is 1D\n",
        "\n",
        "# Split into train and test\n",
        "X_train, X_test, y_train, y_test = train_test_split(X, y, test_size=0.2, random_state=42)\n",
        "\n",
        "# Show the shape of splits\n",
        "print(\"Training feature shape:\", X_train.shape)\n",
        "print(\"Testing feature shape:\", X_test.shape)"
      ],
      "metadata": {
        "colab": {
          "base_uri": "https://localhost:8080/"
        },
        "id": "IS17MGW0TXpw",
        "outputId": "7f6fe677-c91f-4cda-d676-4ccd3c37f099"
      },
      "execution_count": 47,
      "outputs": [
        {
          "output_type": "stream",
          "name": "stdout",
          "text": [
            "Training feature shape: (436, 1)\n",
            "Testing feature shape: (109, 1)\n"
          ]
        }
      ]
    },
    {
      "cell_type": "code",
      "source": [
        "# Initialize the Linear Regression model\n",
        "model = LinearRegression()\n",
        "\n",
        "# Fit the model to the training data\n",
        "model.fit(X_train, y_train)\n",
        "\n",
        "# Print the model coefficients\n",
        "print(\"Intercept (b0):\", model.intercept_)\n",
        "print(\"Slope (b1):\", model.coef_[0])"
      ],
      "metadata": {
        "colab": {
          "base_uri": "https://localhost:8080/"
        },
        "id": "RjH-bo42Ti6C",
        "outputId": "853f1ec5-bddd-436f-9795-25882f4bbfcb"
      },
      "execution_count": 48,
      "outputs": [
        {
          "output_type": "stream",
          "name": "stdout",
          "text": [
            "Intercept (b0): 2512254.2639593435\n",
            "Slope (b1): 425.72984193878284\n"
          ]
        }
      ]
    },
    {
      "cell_type": "code",
      "source": [
        "# Predict on the testing data\n",
        "y_pred = model.predict(X_test)\n",
        "\n",
        "# Evaluate using metrics\n",
        "mae = mean_absolute_error(y_test, y_pred)\n",
        "mse = mean_squared_error(y_test, y_pred)\n",
        "r2 = r2_score(y_test, y_pred)\n",
        "\n",
        "print(\"Mean Absolute Error (MAE):\", mae)\n",
        "print(\"Mean Squared Error (MSE):\", mse)\n",
        "print(\"R-squared (R²):\", r2)"
      ],
      "metadata": {
        "colab": {
          "base_uri": "https://localhost:8080/"
        },
        "id": "pkdTcDRJTpvb",
        "outputId": "5bc5c9b1-a843-4a9b-93ef-ac7aa17b2c68"
      },
      "execution_count": 49,
      "outputs": [
        {
          "output_type": "stream",
          "name": "stdout",
          "text": [
            "Mean Absolute Error (MAE): 1474748.1337969352\n",
            "Mean Squared Error (MSE): 3675286604768.185\n",
            "R-squared (R²): 0.27287851871974644\n"
          ]
        }
      ]
    },
    {
      "cell_type": "code",
      "source": [
        "# Plotting\n",
        "plt.figure(figsize=(8,6))\n",
        "plt.scatter(X_test, y_test, color='blue', label='Actual')\n",
        "plt.plot(X_test, y_pred, color='red', linewidth=2, label='Regression Line')\n",
        "plt.title('Area vs Price (Simple Linear Regression)')\n",
        "plt.xlabel('Area')\n",
        "plt.ylabel('Price')\n",
        "plt.legend()\n",
        "plt.show()"
      ],
      "metadata": {
        "colab": {
          "base_uri": "https://localhost:8080/",
          "height": 564
        },
        "id": "shFl6MOVTzAE",
        "outputId": "a893e530-f8bf-40c7-f0e1-f158b3029627"
      },
      "execution_count": 50,
      "outputs": [
        {
          "output_type": "display_data",
          "data": {
            "text/plain": [
              "<Figure size 800x600 with 1 Axes>"
            ],
            "image/png": "[encoded data removed]"
          },
          "metadata": {}
        }
      ]
    },
    {
      "cell_type": "code",
      "source": [
        "# Select multiple features\n",
        "X_multi = data[['area', 'bedrooms', 'bathrooms', 'stories']]  # <- you can add more if you want\n",
        "y_multi = data['price']\n",
        "\n",
        "# Split into train and test\n",
        "X_train_multi, X_test_multi, y_train_multi, y_test_multi = train_test_split(X_multi, y_multi, test_size=0.2, random_state=42)\n",
        "\n",
        "print(\"Training features shape:\", X_train_multi.shape)\n",
        "print(\"Testing features shape:\", X_test_multi.shape)"
      ],
      "metadata": {
        "colab": {
          "base_uri": "https://localhost:8080/"
        },
        "id": "mUy7X_fyT8DU",
        "outputId": "46261988-2f53-4bca-f649-b76bbafba9d9"
      },
      "execution_count": 51,
      "outputs": [
        {
          "output_type": "stream",
          "name": "stdout",
          "text": [
            "Training features shape: (436, 4)\n",
            "Testing features shape: (109, 4)\n"
          ]
        }
      ]
    },
    {
      "cell_type": "code",
      "source": [
        "# Initialize the Linear Regression model\n",
        "model_multi = LinearRegression()\n",
        "\n",
        "# Fit the model on the training data\n",
        "model_multi.fit(X_train_multi, y_train_multi)\n",
        "\n",
        "# Print model intercept and coefficients\n",
        "print(\"Intercept (b0):\", model_multi.intercept_)\n",
        "print(\"Coefficients (b1, b2, b3, ...):\", model_multi.coef_)\n",
        "\n",
        "# Match coefficients with feature names\n",
        "coefficients = pd.DataFrame({'Feature': X_multi.columns, 'Coefficient': model_multi.coef_})\n",
        "print(coefficients)\n"
      ],
      "metadata": {
        "colab": {
          "base_uri": "https://localhost:8080/"
        },
        "id": "sS64Wh9hUDwC",
        "outputId": "fa14e54b-32e4-4fb4-95f2-52d503d7e44f"
      },
      "execution_count": 52,
      "outputs": [
        {
          "output_type": "stream",
          "name": "stdout",
          "text": [
            "Intercept (b0): -64342.420905679464\n",
            "Coefficients (b1, b2, b3, ...): [3.49009738e+02 1.74685138e+05 1.25815095e+06 4.83859660e+05]\n",
            "     Feature   Coefficient\n",
            "0       area  3.490097e+02\n",
            "1   bedrooms  1.746851e+05\n",
            "2  bathrooms  1.258151e+06\n",
            "3    stories  4.838597e+05\n"
          ]
        }
      ]
    },
    {
      "cell_type": "code",
      "source": [
        "# Predict on the testing set\n",
        "y_pred_multi = model_multi.predict(X_test_multi)\n",
        "\n",
        "# Evaluate the model\n",
        "mae_multi = mean_absolute_error(y_test_multi, y_pred_multi)\n",
        "mse_multi = mean_squared_error(y_test_multi, y_pred_multi)\n",
        "r2_multi = r2_score(y_test_multi, y_pred_multi)\n",
        "\n",
        "print(\"Mean Absolute Error (MAE):\", mae_multi)\n",
        "print(\"Mean Squared Error (MSE):\", mse_multi)\n",
        "print(\"R-squared (R²):\", r2_multi)\n"
      ],
      "metadata": {
        "colab": {
          "base_uri": "https://localhost:8080/"
        },
        "id": "Sv73TPMqUOgV",
        "outputId": "9387b089-c38e-46c0-a882-14205c1ab44c"
      },
      "execution_count": 53,
      "outputs": [
        {
          "output_type": "stream",
          "name": "stdout",
          "text": [
            "Mean Absolute Error (MAE): 1158970.4803166878\n",
            "Mean Squared Error (MSE): 2457741642022.087\n",
            "R-squared (R²): 0.513758534903707\n"
          ]
        }
      ]
    },
    {
      "cell_type": "code",
      "source": [
        "# Example new house features\n",
        "new_house = np.array([[4000, 3, 2, 2]])  # Note: 2D array\n",
        "\n",
        "# Predict price\n",
        "predicted_price = model_multi.predict(new_house)\n",
        "\n",
        "print(\"Predicted Price for the new house:\", predicted_price[0])\n"
      ],
      "metadata": {
        "colab": {
          "base_uri": "https://localhost:8080/"
        },
        "id": "pLKDpaB3UWCF",
        "outputId": "76c7253d-6eb7-44af-9d27-d11986a07153"
      },
      "execution_count": 54,
      "outputs": [
        {
          "output_type": "stream",
          "name": "stdout",
          "text": [
            "Predicted Price for the new house: 5339773.17082078\n"
          ]
        },
        {
          "output_type": "stream",
          "name": "stderr",
          "text": [
            "/usr/local/lib/python3.11/dist-packages/sklearn/utils/validation.py:2739: UserWarning: X does not have valid feature names, but LinearRegression was fitted with feature names\n",
            "  warnings.warn(\n"
          ]
        }
      ]
    },
    {
      "cell_type": "code",
      "source": [
        "# Create a summary dictionary\n",
        "summary = {\n",
        "    'Model': ['Simple Linear Regression', 'Multiple Linear Regression'],\n",
        "    'Mean Absolute Error (MAE)': [mae, mae_multi],\n",
        "    'Mean Squared Error (MSE)': [mse, mse_multi],\n",
        "    'R-squared (R²)': [r2, r2_multi]\n",
        "}\n",
        "\n",
        "# Convert to DataFrame\n",
        "summary_df = pd.DataFrame(summary)\n",
        "\n",
        "# Display the summary table\n",
        "print(summary_df)\n"
      ],
      "metadata": {
        "colab": {
          "base_uri": "https://localhost:8080/"
        },
        "id": "OApjB9KKUj9s",
        "outputId": "e6baa476-4ff3-47d2-da55-9c27715ce8c7"
      },
      "execution_count": 55,
      "outputs": [
        {
          "output_type": "stream",
          "name": "stdout",
          "text": [
            "                        Model  Mean Absolute Error (MAE)  \\\n",
            "0    Simple Linear Regression               1.474748e+06   \n",
            "1  Multiple Linear Regression               1.158970e+06   \n",
            "\n",
            "   Mean Squared Error (MSE)  R-squared (R²)  \n",
            "0              3.675287e+12        0.272879  \n",
            "1              2.457742e+12        0.513759  \n"
          ]
        }
      ]
    }
  ]
}